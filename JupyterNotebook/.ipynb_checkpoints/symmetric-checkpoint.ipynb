{
 "cells": [
  {
   "cell_type": "code",
   "execution_count": 14,
   "metadata": {},
   "outputs": [],
   "source": [
    "%run Plane.ipynb\n",
    "%run Polytope.ipynb\n",
    "\n",
    "import numpy as np\n",
    "import matplotlib.pyplot as plt\n",
    "\n",
    "def symmetric(dim) :\n",
    "    num = dim * 2\n",
    "    print(num)\n",
    "    A = np.random.normal(0, 1, (num, dim))\n",
    "    b = np.ones(num) * 10\n",
    "\n",
    "    for i in range(num//2, num):\n",
    "        A[i] = -1 * A[i - (num//2)]\n",
    "    zero = np.zeros(dim)\n",
    "\n",
    "    ''' \n",
    "    angles = []\n",
    "    for i in range(len(poly.planes)):\n",
    "        for k in range(i + 1, len(poly.planes)):\n",
    "            if abs(np.dot(poly.planes[i].perp_vec, poly.planes[k].perp_vec)) < 1 - 1e-8:\n",
    "                angles.append(np.arccos(np.dot(poly.planes[i].perp_vec, poly.planes[k].perp_vec)))\n",
    "    print(np.mean(angles))\n",
    "    '''\n",
    "\n",
    "    return Polytope(A, b, zero).remove_redundant()"
   ]
  },
  {
   "cell_type": "code",
   "execution_count": null,
   "metadata": {},
   "outputs": [],
   "source": []
  },
  {
   "cell_type": "code",
   "execution_count": null,
   "metadata": {},
   "outputs": [],
   "source": []
  },
  {
   "cell_type": "code",
   "execution_count": null,
   "metadata": {},
   "outputs": [],
   "source": []
  }
 ],
 "metadata": {
  "kernelspec": {
   "display_name": "Python 3",
   "language": "python",
   "name": "python3"
  },
  "language_info": {
   "codemirror_mode": {
    "name": "ipython",
    "version": 3
   },
   "file_extension": ".py",
   "mimetype": "text/x-python",
   "name": "python",
   "nbconvert_exporter": "python",
   "pygments_lexer": "ipython3",
   "version": "3.6.5"
  }
 },
 "nbformat": 4,
 "nbformat_minor": 2
}
