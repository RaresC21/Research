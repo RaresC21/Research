{
 "cells": [
  {
   "cell_type": "code",
   "execution_count": 45,
   "metadata": {},
   "outputs": [],
   "source": [
    "%run Polytope.ipynb\n",
    "import numpy as np\n",
    "from scipy.stats import ortho_group\n",
    "\n",
    "def make_cube(dim):\n",
    "    side = 2\n",
    "\n",
    "    A = []\n",
    "    b = []\n",
    "    zero = [0] * dim\n",
    "\n",
    "    for i in range(dim):\n",
    "      vec = [0] * dim\n",
    "      vec[i] = 1\n",
    "      A.append(vec)\n",
    "\n",
    "      vec1 = [0] * dim\n",
    "      vec1[i] = -1\n",
    "      A.append(vec1)\n",
    "\n",
    "      b.append(1)\n",
    "      b.append(1)\n",
    "\n",
    "    A = np.array(A)\n",
    "    b = np.array(b)\n",
    "    zero = np.array(zero)\n",
    "    b = b * side / 2\n",
    "\n",
    "    return Polytope(A, b, np.zeros(dim))\n",
    "\n",
    "def make_rotated_cube(dim): \n",
    "#   for a 3d cube rotated only about z-axis\n",
    "#     temp = ortho_group.rvs(dim = 2)\n",
    "#     a1 = np.append(temp[0], 0)\n",
    "#     a2 = np.append(temp[1], 0)\n",
    "#     a3 = np.array([0,0,1])\n",
    "#     A = np.array([a1, a2, a3])\n",
    "\n",
    "    A = ortho_group.rvs(dim = dim)\n",
    "    A = np.vstack([A, -A])\n",
    "    \n",
    "    b = np.ones(2*dim)\n",
    "    return Polytope(A, b, np.zeros(dim))\n",
    "    "
   ]
  },
  {
   "cell_type": "code",
   "execution_count": 46,
   "metadata": {},
   "outputs": [
    {
     "name": "stdout",
     "output_type": "stream",
     "text": [
      "[[-0.13280738  0.20112394  0.97052118]\n",
      " [-0.33016347 -0.93224699  0.14801227]\n",
      " [ 0.93453426 -0.30077352  0.19021305]\n",
      " [ 0.13280738 -0.20112394 -0.97052118]\n",
      " [ 0.33016347  0.93224699 -0.14801227]\n",
      " [-0.93453426  0.30077352 -0.19021305]]\n"
     ]
    }
   ],
   "source": [
    "p = make_rotated_cube(3)\n",
    "print(p.A)"
   ]
  },
  {
   "cell_type": "code",
   "execution_count": null,
   "metadata": {},
   "outputs": [],
   "source": []
  },
  {
   "cell_type": "code",
   "execution_count": null,
   "metadata": {},
   "outputs": [],
   "source": []
  }
 ],
 "metadata": {
  "kernelspec": {
   "display_name": "Python 3",
   "language": "python",
   "name": "python3"
  },
  "language_info": {
   "codemirror_mode": {
    "name": "ipython",
    "version": 3
   },
   "file_extension": ".py",
   "mimetype": "text/x-python",
   "name": "python",
   "nbconvert_exporter": "python",
   "pygments_lexer": "ipython3",
   "version": "3.6.5"
  }
 },
 "nbformat": 4,
 "nbformat_minor": 2
}
