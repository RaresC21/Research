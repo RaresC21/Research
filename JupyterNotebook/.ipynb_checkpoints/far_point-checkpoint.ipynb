{
 "cells": [
  {
   "cell_type": "code",
   "execution_count": null,
   "metadata": {},
   "outputs": [],
   "source": [
    "import numpy as np\n",
    "\n",
    "def get_far_point(polytope):\n",
    "    lines = polytope.reflection_lines(100)\n",
    "\n",
    "    dist = 0\n",
    "    pt = -1\n",
    "    for l in lines:\n",
    "        a = l[0]\n",
    "        b = l[1]\n",
    "        p1 = 0.9 * a + 0.1 * b\n",
    "        d1 = np.linalg.norm(p1)\n",
    "\n",
    "        p2 = 0.1 * a + 0.9 * b\n",
    "        d2 = np.linalg.norm(p2)\n",
    "\n",
    "        if d1 > dist:\n",
    "            dist = d1\n",
    "            pt = p1\n",
    "        if d2 > dist:\n",
    "            dist = d2\n",
    "            pt = p2\n",
    "    return pt\n"
   ]
  }
 ],
 "metadata": {
  "kernelspec": {
   "display_name": "Python 3",
   "language": "python",
   "name": "python3"
  },
  "language_info": {
   "codemirror_mode": {
    "name": "ipython",
    "version": 3
   },
   "file_extension": ".py",
   "mimetype": "text/x-python",
   "name": "python",
   "nbconvert_exporter": "python",
   "pygments_lexer": "ipython3",
   "version": "3.6.5"
  }
 },
 "nbformat": 4,
 "nbformat_minor": 2
}
