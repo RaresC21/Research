{
  "cells": [
    {
      "metadata": {
        "trusted": true
      },
      "cell_type": "code",
      "source": "import numpy as np\n\ndef gram_schmidt(vectors):\n    basis = []\n    for v in vectors:\n        w = v - np.sum( np.dot(v,b)*b  for b in basis )\n        if (w > 1e-10).any():  \n            basis.append(w/np.linalg.norm(w))\n    return np.array(basis)\n\n\n# given a vector, find an orthogonal extension forming a basis\ndef orthogonal_extend_basis(p): \n    dim = len(p)\n    indx = -1\n    \n    for i, c in np.ndenumerate(p): \n        if abs(c) > 1e-8: \n            indx = i[0]\n            break\n        \n    basis = [p]\n    for i in range(dim): \n        if i == indx: \n            continue \n        cur = [0] * dim \n        cur[i] = 1\n        basis.append(np.array(cur))\n    return gram_schmidt(np.array(basis))",
      "execution_count": 1,
      "outputs": []
    },
    {
      "metadata": {
        "trusted": true
      },
      "cell_type": "code",
      "source": "from Polytope import Polytope\nfrom Plane import Plane, Options\nfrom symmetric import *\nfrom far_point import * \nfrom make_cube import * \n\nbasis = orthogonal_extend_basis(np.array([-1,0]))\nprint(basis)\nprint()\n\ncube = make_cube(2)\nfor p in cube.planes: \n    print(p.perp_vec)\n    print(p.basis)\n    print()",
      "execution_count": 19,
      "outputs": [
        {
          "output_type": "stream",
          "text": "[[1. 0.]\n [0. 1.]]\n\n[1. 0.]\n[[0. 1.]]\n\n[-1.  0.]\n[]\n\n[0. 1.]\n[[1. 0.]]\n\n[ 0. -1.]\n[]\n\n",
          "name": "stdout"
        },
        {
          "output_type": "stream",
          "text": "/home/nbuser/anaconda3_420/lib/python3.5/site-packages/ipykernel/__main__.py:6: DeprecationWarning: Calling np.sum(generator) is deprecated, and in the future will give a different result. Use np.sum(np.from_iter(generator)) or the python sum builtin instead.\n",
          "name": "stderr"
        }
      ]
    },
    {
      "metadata": {
        "trusted": true
      },
      "cell_type": "code",
      "source": "",
      "execution_count": null,
      "outputs": []
    }
  ],
  "metadata": {
    "kernelspec": {
      "name": "python3",
      "display_name": "Python 3",
      "language": "python"
    },
    "language_info": {
      "mimetype": "text/x-python",
      "nbconvert_exporter": "python",
      "name": "python",
      "file_extension": ".py",
      "version": "3.5.4",
      "pygments_lexer": "ipython3",
      "codemirror_mode": {
        "version": 3,
        "name": "ipython"
      }
    }
  },
  "nbformat": 4,
  "nbformat_minor": 1
}