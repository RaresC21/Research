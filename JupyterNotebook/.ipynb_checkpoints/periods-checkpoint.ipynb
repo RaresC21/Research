{
 "cells": [
  {
   "cell_type": "code",
   "execution_count": 87,
   "metadata": {},
   "outputs": [],
   "source": [
    "import numpy as np\n",
    "import matplotlib.pyplot as plt\n",
    "from decimal import *\n",
    "getcontext().prec = 100"
   ]
  },
  {
   "cell_type": "code",
   "execution_count": 194,
   "metadata": {},
   "outputs": [],
   "source": [
    "def f(x): \n",
    "    x = Decimal(2)*x\n",
    "    while x > Decimal(1): \n",
    "        x -= Decimal(1)\n",
    "    return x\n",
    "def fn(x, n): \n",
    "    for i in range(n): \n",
    "        x = f(x)\n",
    "    return x"
   ]
  },
  {
   "cell_type": "code",
   "execution_count": 213,
   "metadata": {},
   "outputs": [],
   "source": [
    "def neighborhood(n, eps): \n",
    "    nn = pow(2,n)\n",
    "    total = Decimal(0)\n",
    "    p = Decimal(1) / Decimal(nn-1)\n",
    "    \n",
    "    x = p\n",
    "    step = eps/nn\n",
    "    for x in np.arange(p-eps,p+eps,step):\n",
    "        y = fn(x, n//2)\n",
    "        if abs(p - y) < eps: \n",
    "            total += step\n",
    "    print(n, total * (nn))"
   ]
  },
  {
   "cell_type": "code",
   "execution_count": 214,
   "metadata": {},
   "outputs": [
    {
     "name": "stdout",
     "output_type": "stream",
     "text": [
      "2 2.00E-9\n",
      "3 2.000E-9\n",
      "4 2.0000E-9\n",
      "5 2.00000E-9\n",
      "6 2.000000E-9\n",
      "7 2.0000000E-9\n",
      "8 2.00000000E-9\n",
      "9 2.000000000E-9\n",
      "10 2.0000000000E-9\n",
      "11 2.00000000000E-9\n",
      "12 2.000000000000E-9\n",
      "13 2.0000000000000E-9\n",
      "14 2.00000000000000E-9\n"
     ]
    }
   ],
   "source": [
    "for n in range(2,15):\n",
    "    eps = Decimal('0.000000001')\n",
    "    neighborhood(n, eps)"
   ]
  },
  {
   "cell_type": "code",
   "execution_count": null,
   "metadata": {},
   "outputs": [],
   "source": []
  },
  {
   "cell_type": "code",
   "execution_count": null,
   "metadata": {},
   "outputs": [],
   "source": []
  }
 ],
 "metadata": {
  "kernelspec": {
   "display_name": "Python 3",
   "language": "python",
   "name": "python3"
  },
  "language_info": {
   "codemirror_mode": {
    "name": "ipython",
    "version": 3
   },
   "file_extension": ".py",
   "mimetype": "text/x-python",
   "name": "python",
   "nbconvert_exporter": "python",
   "pygments_lexer": "ipython3",
   "version": "3.7.4"
  }
 },
 "nbformat": 4,
 "nbformat_minor": 2
}
