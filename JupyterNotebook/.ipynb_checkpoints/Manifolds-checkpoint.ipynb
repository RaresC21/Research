{
 "cells": [
  {
   "cell_type": "code",
   "execution_count": 148,
   "metadata": {},
   "outputs": [],
   "source": [
    "import numpy as np\n",
    "\n",
    "class Plane:\n",
    "    def __init__(self, coef, b, plane_id = -1):\n",
    "        norm = np.linalg.norm(coef)\n",
    "        self.perp_vec = coef / norm\n",
    "        self.b = b / norm\n",
    "        self.dimension = coef.shape[0]\n",
    "        self.plane_id = plane_id\n",
    "\n",
    "        pt_on_plane = [0] * self.dimension\n",
    "        for i, c in np.ndenumerate(coef):\n",
    "            indx = i[0]\n",
    "            if abs(c) > 1e-8:\n",
    "                pt_on_plane[indx] = b / c\n",
    "                break\n",
    "        self.pt_on_plane = pt_on_plane\n",
    "\n",
    "    def pt_in_half_plane(self, pt):\n",
    "        return np.dot(pt, self.perp_vec) < self.b + 1e-8\n",
    "\n",
    "    def pt_on_hyperplane(self, pt):\n",
    "        diff = abs(np.dot(pt, self.perp_vec) - self.b)\n",
    "        return diff < 1e-8\n",
    "\n",
    "    def line_intersection(self, point, direction) :\n",
    "        num = self.b - np.dot(point, self.perp_vec)\n",
    "        denom = np.dot(direction, self.perp_vec)\n",
    "        t = num / denom\n",
    "        if t < -1e-8: t = 1e5\n",
    "        return point + direction * t\n",
    "\n",
    "    def projection(self, point):\n",
    "        return self.line_intersection(point, 1 * self.perp_vec);\n",
    "\n",
    "    def reflect(self, point, direction):\n",
    "        # return self.reflect_function(point, direction)\n",
    "\n",
    "        # move everything to origin\n",
    "        intersection = self.line_intersection(point, direction)\n",
    "        pp = point - self.pt_on_plane\n",
    "\n",
    "        dd = direction\n",
    "\n",
    "        # mirror the point across the hyperplane\n",
    "        proj = self.perp_vec * np.dot(pp, self.perp_vec) \\\n",
    "               / np.dot(self.perp_vec, self.perp_vec)\n",
    "\n",
    "        mirror = pp - 2 * proj + self.pt_on_plane\n",
    "        direction = intersection - mirror\n",
    "\n",
    "        direction = direction / np.linalg.norm(direction)\n",
    "\n",
    "        return (intersection, direction)\n",
    "\n",
    "class Ball:\n",
    "    def __init__(self, center, radius, index):\n",
    "        self.center = center\n",
    "        self.radius = radius\n",
    "        self.index = index\n",
    "\n",
    "    def pt_inside(self, pt):\n",
    "        dist = np.linalg.norm(pt - self.center)\n",
    "\n",
    "        if dist < self.radius + 1e-8:\n",
    "            return True\n",
    "        return False\n",
    "\n",
    "    def does_intersect(self, o, l) :\n",
    "        c = self.center\n",
    "        r = self.radius\n",
    "        \n",
    "        if np.dot(c - o, l) < 0: return False\n",
    "\n",
    "        l = l / np.linalg.norm(l)\n",
    "\n",
    "        a = - (np.dot(l, o - c))\n",
    "        b = (np.dot(l, (o - c)) ** 2) - (np.linalg.norm(o - c) ** 2) + r*r\n",
    "        return b >= -1e-8\n",
    "\n",
    "    '''\n",
    "    circle centered at c, of radius r\n",
    "    line: x = o + d * l (origin o, direction l)\n",
    "    '''\n",
    "    def line_intersection(self, o, l):\n",
    "        c = self.center\n",
    "        r = self.radius\n",
    "\n",
    "        l = l / np.linalg.norm(l)\n",
    "\n",
    "        a = - (np.dot(l, o - c))\n",
    "        b = (np.dot(l, (o - c)) ** 2) - (np.linalg.norm(o - c) ** 2) + r*r\n",
    "        b = np.sqrt(b)\n",
    "\n",
    "        d1 = a + b\n",
    "        d2 = a - b\n",
    "\n",
    "        p1 = o + d1 * l\n",
    "        p2 = o + d2 * l\n",
    "\n",
    "        if np.linalg.norm(p1 - o) < np.linalg.norm(p2 - o):\n",
    "            return p1\n",
    "        return p2\n",
    "\n",
    "    def reflection(self, pt, direction):\n",
    "        hit_on_sphere = self.line_intersection(pt, direction)\n",
    "\n",
    "        perp = hit_on_sphere - self.center\n",
    "        b = np.dot(perp, hit_on_sphere)\n",
    "        plane = Plane(perp, b)\n",
    "\n",
    "        p, d = plane.reflect(pt, direction)\n",
    "        return p, d\n",
    "    \n",
    "    def angle(self, pt, direction): \n",
    "        v = pt - self.center\n",
    "        v /= np.linalg.norm(v)\n",
    "        d = direction / np.linalg.norm(direction)\n",
    "        return np.arccos(np.dot(v, d))\n"
   ]
  },
  {
   "cell_type": "code",
   "execution_count": 163,
   "metadata": {},
   "outputs": [],
   "source": [
    "def run(N, balls, index, pt, d): \n",
    "    \n",
    "    angles = []\n",
    "    pts = []\n",
    "    for _ in range(N): \n",
    "        \n",
    "        dist = 1e9\n",
    "        hit_ball = None\n",
    "        for ball in balls: \n",
    "            if ball.index == index: \n",
    "                continue\n",
    "                \n",
    "            idx = -1\n",
    "            if ball.does_intersect(pt, d): \n",
    "                hit = ball.line_intersection(pt, d)\n",
    "                if np.linalg.norm(hit - pt) < dist: \n",
    "                    dist = np.linalg.norm(hit - pt)\n",
    "                    hit_ball = ball\n",
    "            \n",
    "        index = hit_ball.index\n",
    "        pt, d = hit_ball.reflection(pt, d)\n",
    "                  \n",
    "        pts.append(pt)\n",
    "        angles.append(ball.angle(pt, d))\n",
    "    return pts, angles"
   ]
  },
  {
   "cell_type": "code",
   "execution_count": 164,
   "metadata": {},
   "outputs": [],
   "source": [
    "radius = 0.75\n",
    "balls = [Ball(np.array([-1, 0]), radius, 0), Ball(np.array([1, 0]), radius, 1), Ball(np.array([0, -1]), radius, 2), Ball(np.array([0, 1]), radius, 3)]"
   ]
  },
  {
   "cell_type": "code",
   "execution_count": 169,
   "metadata": {},
   "outputs": [
    {
     "data": {
      "text/plain": [
       "<Figure size 720x720 with 0 Axes>"
      ]
     },
     "metadata": {},
     "output_type": "display_data"
    }
   ],
   "source": [
    "import matplotlib.pyplot as plt\n",
    "\n",
    "plt.figure(figsize=(10, 10))\n",
    "\n",
    "def circ(x, y, r, phi):\n",
    "    return (x + r * np.cos(phi), y + r*np.sin(phi))\n",
    "\n",
    "def plot_circle(x, y, r):\n",
    "    phis = np.arange(0,6.28,0.01)\n",
    "    plt.plot(*circ(x, y, r, phis), c = 'r')\n",
    "\n",
    "    plt.xlim(-1, 1)\n",
    "    plt.ylim(-1, 1)\n",
    "    plt.gca().set_aspect('equal', adjustable='box')\n",
    "\n",
    "def draw_balls(balls): \n",
    "    for ball in balls: \n",
    "        plot_circle(ball.center[0], ball.center[1], ball.radius)\n",
    "        \n",
    "def plot_orbit(pts): \n",
    "    for i in range(len(pts) - 1):\n",
    "        plt.plot([pts[i][0], pts[i+1][0]], [pts[i][1], pts[i+1][1]], color = 'blue')"
   ]
  },
  {
   "cell_type": "code",
   "execution_count": 170,
   "metadata": {},
   "outputs": [
    {
     "data": {
      "image/png": "[encoded data removed]",
      "text/plain": [
       "<Figure size 432x288 with 1 Axes>"
      ]
     },
     "metadata": {
      "needs_background": "light"
     },
     "output_type": "display_data"
    }
   ],
   "source": [
    "res = run(100, balls, -1, np.array([0.1,0]), np.array([0,1]))\n",
    "\n",
    "plot_orbit(res[0])\n",
    "draw_balls(balls)"
   ]
  },
  {
   "cell_type": "code",
   "execution_count": null,
   "metadata": {},
   "outputs": [],
   "source": []
  },
  {
   "cell_type": "code",
   "execution_count": null,
   "metadata": {},
   "outputs": [],
   "source": [
    ")"
   ]
  },
  {
   "cell_type": "code",
   "execution_count": null,
   "metadata": {},
   "outputs": [],
   "source": []
  }
 ],
 "metadata": {
  "kernelspec": {
   "display_name": "Python 3",
   "language": "python",
   "name": "python3"
  },
  "language_info": {
   "codemirror_mode": {
    "name": "ipython",
    "version": 3
   },
   "file_extension": ".py",
   "mimetype": "text/x-python",
   "name": "python",
   "nbconvert_exporter": "python",
   "pygments_lexer": "ipython3",
   "version": "3.6.1"
  }
 },
 "nbformat": 4,
 "nbformat_minor": 2
}
