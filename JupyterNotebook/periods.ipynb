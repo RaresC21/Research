{
 "cells": [
  {
   "cell_type": "code",
   "execution_count": 87,
   "metadata": {},
   "outputs": [],
   "source": [
    "import numpy as np\n",
    "import matplotlib.pyplot as plt\n",
    "from decimal import *\n",
    "getcontext().prec = 100"
   ]
  },
  {
   "cell_type": "code",
   "execution_count": 194,
   "metadata": {},
   "outputs": [],
   "source": [
    "def f(x): \n",
    "    x = Decimal(2)*x\n",
    "    while x > Decimal(1): \n",
    "        x -= Decimal(1)\n",
    "    return x\n",
    "def fn(x, n): \n",
    "    for i in range(n): \n",
    "        x = f(x)\n",
    "    return x"
   ]
  },
  {
   "cell_type": "code",
   "execution_count": 219,
   "metadata": {},
   "outputs": [],
   "source": [
    "def neighborhood(n, eps): \n",
    "    nn = pow(2,n)\n",
    "    total = Decimal(0)\n",
    "    p = Decimal(1) / Decimal(nn-1)\n",
    "    \n",
    "    x = p\n",
    "    step = eps/nn\n",
    "    for x in np.arange(p-eps,p+eps,step):\n",
    "        y = fn(x, n//2)\n",
    "        pp = fn(p, n//2)\n",
    "        if abs(pp - y) < eps: \n",
    "            total += step\n",
    "    print(n, total * (nn))"
   ]
  },
  {
   "cell_type": "code",
   "execution_count": 222,
   "metadata": {},
   "outputs": [
    {
     "name": "stdout",
     "output_type": "stream",
     "text": [
      "2 3.00E-9\n",
      "4 7.0000E-9\n",
      "6 1.5000000E-8\n",
      "8 3.100000000E-8\n",
      "10 6.30000000000E-8\n",
      "12 1.27000000000000E-7\n",
      "14 2.5500000000000000E-7\n",
      "16 5.110000000000000000E-7\n",
      "18 0.000001023000000000000000000\n",
      "20 0.00000204700000000000000000000\n"
     ]
    }
   ],
   "source": [
    "for n in range(2,22,2):\n",
    "    eps = Decimal('0.000000001')\n",
    "    neighborhood(n, eps)"
   ]
  },
  {
   "cell_type": "code",
   "execution_count": null,
   "metadata": {},
   "outputs": [],
   "source": []
  },
  {
   "cell_type": "code",
   "execution_count": null,
   "metadata": {},
   "outputs": [],
   "source": []
  }
 ],
 "metadata": {
  "kernelspec": {
   "display_name": "Python 3",
   "language": "python",
   "name": "python3"
  },
  "language_info": {
   "codemirror_mode": {
    "name": "ipython",
    "version": 3
   },
   "file_extension": ".py",
   "mimetype": "text/x-python",
   "name": "python",
   "nbconvert_exporter": "python",
   "pygments_lexer": "ipython3",
   "version": "3.7.4"
  }
 },
 "nbformat": 4,
 "nbformat_minor": 2
}
